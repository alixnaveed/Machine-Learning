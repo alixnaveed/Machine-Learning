{
 "cells": [
  {
   "cell_type": "code",
   "execution_count": 1,
   "metadata": {},
   "outputs": [],
   "source": [
    "import numpy as np\n",
    "import pandas as pd\n",
    "import matplotlib.pyplot as plt"
   ]
  },
  {
   "cell_type": "code",
   "execution_count": 2,
   "id": "260f4c97",
   "metadata": {},
   "outputs": [],
   "source": [
    "df = pd.read_csv(\"insurance.csv\")"
   ]
  },
  {
   "cell_type": "code",
   "execution_count": 43,
   "id": "06f8c718",
   "metadata": {},
   "outputs": [
    {
     "name": "stdout",
     "output_type": "stream",
     "text": [
      "<class 'pandas.core.frame.DataFrame'>\n",
      "RangeIndex: 1338 entries, 0 to 1337\n",
      "Data columns (total 10 columns):\n",
      " #   Column     Non-Null Count  Dtype  \n",
      "---  ------     --------------  -----  \n",
      " 0   age        1338 non-null   int64  \n",
      " 1   sex        1338 non-null   int64  \n",
      " 2   bmi        1338 non-null   float64\n",
      " 3   children   1338 non-null   int64  \n",
      " 4   smoker     1338 non-null   int64  \n",
      " 5   charges    1338 non-null   float64\n",
      " 6   northeast  1338 non-null   uint8  \n",
      " 7   northwest  1338 non-null   uint8  \n",
      " 8   southeast  1338 non-null   uint8  \n",
      " 9   southwest  1338 non-null   uint8  \n",
      "dtypes: float64(2), int64(4), uint8(4)\n",
      "memory usage: 68.1 KB\n"
     ]
    }
   ],
   "source": [
    "df.head()\n",
    "df.count()\n",
    "df.describe()\n",
    "df.info()"
   ]
  },
  {
   "cell_type": "code",
   "execution_count": 4,
   "id": "bc716f74",
   "metadata": {},
   "outputs": [],
   "source": [
    "df['sex'] = df['sex'].replace({'female':0, 'male':1})"
   ]
  },
  {
   "cell_type": "code",
   "execution_count": 9,
   "id": "3e313d7e",
   "metadata": {},
   "outputs": [],
   "source": [
    "df.region.unique()\n",
    "dum = pd.get_dummies(df['region'], drop_first=False)\n"
   ]
  },
  {
   "cell_type": "code",
   "execution_count": 13,
   "id": "c7838ce9",
   "metadata": {},
   "outputs": [],
   "source": [
    "df = df.drop('region', axis=1)\n",
    "df = pd.concat([df, dum], axis=1)"
   ]
  },
  {
   "cell_type": "code",
   "execution_count": 14,
   "id": "2b3d1b5f",
   "metadata": {},
   "outputs": [
    {
     "data": {
      "text/html": [
       "<div>\n",
       "<style scoped>\n",
       "    .dataframe tbody tr th:only-of-type {\n",
       "        vertical-align: middle;\n",
       "    }\n",
       "\n",
       "    .dataframe tbody tr th {\n",
       "        vertical-align: top;\n",
       "    }\n",
       "\n",
       "    .dataframe thead th {\n",
       "        text-align: right;\n",
       "    }\n",
       "</style>\n",
       "<table border=\"1\" class=\"dataframe\">\n",
       "  <thead>\n",
       "    <tr style=\"text-align: right;\">\n",
       "      <th></th>\n",
       "      <th>age</th>\n",
       "      <th>sex</th>\n",
       "      <th>bmi</th>\n",
       "      <th>children</th>\n",
       "      <th>smoker</th>\n",
       "      <th>charges</th>\n",
       "      <th>northeast</th>\n",
       "      <th>northwest</th>\n",
       "      <th>southeast</th>\n",
       "      <th>southwest</th>\n",
       "    </tr>\n",
       "  </thead>\n",
       "  <tbody>\n",
       "    <tr>\n",
       "      <th>0</th>\n",
       "      <td>19</td>\n",
       "      <td>0</td>\n",
       "      <td>27.900</td>\n",
       "      <td>0</td>\n",
       "      <td>yes</td>\n",
       "      <td>16884.92400</td>\n",
       "      <td>0</td>\n",
       "      <td>0</td>\n",
       "      <td>0</td>\n",
       "      <td>1</td>\n",
       "    </tr>\n",
       "    <tr>\n",
       "      <th>1</th>\n",
       "      <td>18</td>\n",
       "      <td>1</td>\n",
       "      <td>33.770</td>\n",
       "      <td>1</td>\n",
       "      <td>no</td>\n",
       "      <td>1725.55230</td>\n",
       "      <td>0</td>\n",
       "      <td>0</td>\n",
       "      <td>1</td>\n",
       "      <td>0</td>\n",
       "    </tr>\n",
       "    <tr>\n",
       "      <th>2</th>\n",
       "      <td>28</td>\n",
       "      <td>1</td>\n",
       "      <td>33.000</td>\n",
       "      <td>3</td>\n",
       "      <td>no</td>\n",
       "      <td>4449.46200</td>\n",
       "      <td>0</td>\n",
       "      <td>0</td>\n",
       "      <td>1</td>\n",
       "      <td>0</td>\n",
       "    </tr>\n",
       "    <tr>\n",
       "      <th>3</th>\n",
       "      <td>33</td>\n",
       "      <td>1</td>\n",
       "      <td>22.705</td>\n",
       "      <td>0</td>\n",
       "      <td>no</td>\n",
       "      <td>21984.47061</td>\n",
       "      <td>0</td>\n",
       "      <td>1</td>\n",
       "      <td>0</td>\n",
       "      <td>0</td>\n",
       "    </tr>\n",
       "    <tr>\n",
       "      <th>4</th>\n",
       "      <td>32</td>\n",
       "      <td>1</td>\n",
       "      <td>28.880</td>\n",
       "      <td>0</td>\n",
       "      <td>no</td>\n",
       "      <td>3866.85520</td>\n",
       "      <td>0</td>\n",
       "      <td>1</td>\n",
       "      <td>0</td>\n",
       "      <td>0</td>\n",
       "    </tr>\n",
       "  </tbody>\n",
       "</table>\n",
       "</div>"
      ],
      "text/plain": [
       "   age  sex     bmi  children smoker      charges  northeast  northwest  \\\n",
       "0   19    0  27.900         0    yes  16884.92400          0          0   \n",
       "1   18    1  33.770         1     no   1725.55230          0          0   \n",
       "2   28    1  33.000         3     no   4449.46200          0          0   \n",
       "3   33    1  22.705         0     no  21984.47061          0          1   \n",
       "4   32    1  28.880         0     no   3866.85520          0          1   \n",
       "\n",
       "   southeast  southwest  \n",
       "0          0          1  \n",
       "1          1          0  \n",
       "2          1          0  \n",
       "3          0          0  \n",
       "4          0          0  "
      ]
     },
     "execution_count": 14,
     "metadata": {},
     "output_type": "execute_result"
    }
   ],
   "source": [
    "df.head()"
   ]
  },
  {
   "cell_type": "code",
   "execution_count": 15,
   "id": "dbb7e8f8",
   "metadata": {},
   "outputs": [],
   "source": [
    "df['smoker'] = df['smoker'].replace({'yes':1, 'no':0})"
   ]
  },
  {
   "cell_type": "code",
   "execution_count": 18,
   "id": "05ae3511",
   "metadata": {},
   "outputs": [
    {
     "data": {
      "text/plain": [
       "age          0.299008\n",
       "sex          0.057292\n",
       "bmi          0.198341\n",
       "children     0.067998\n",
       "smoker       0.787251\n",
       "charges      1.000000\n",
       "northeast    0.006349\n",
       "northwest   -0.039905\n",
       "southeast    0.073982\n",
       "southwest   -0.043210\n",
       "Name: charges, dtype: float64"
      ]
     },
     "execution_count": 18,
     "metadata": {},
     "output_type": "execute_result"
    }
   ],
   "source": [
    "df.corr()['charges']"
   ]
  },
  {
   "cell_type": "code",
   "execution_count": 26,
   "id": "c75bedd7",
   "metadata": {},
   "outputs": [],
   "source": [
    "from sklearn.model_selection import train_test_split\n",
    "from sklearn.linear_model import LinearRegression\n",
    "from sklearn.neighbors import KNeighborsRegressor\n",
    "from sklearn.metrics import mean_absolute_error, mean_squared_error"
   ]
  },
  {
   "cell_type": "markdown",
   "id": "6d6c45fb",
   "metadata": {},
   "source": [
    "K Nearest Neighbor"
   ]
  },
  {
   "cell_type": "code",
   "execution_count": 22,
   "id": "472bb013",
   "metadata": {},
   "outputs": [],
   "source": [
    "X = df.drop(['charges'], axis=1)\n",
    "y = df['charges']\n",
    "X_train, X_test, y_train, y_test = train_test_split(X, y, test_size=0.33, random_state=42)"
   ]
  },
  {
   "cell_type": "code",
   "execution_count": 36,
   "id": "5c4c77ce",
   "metadata": {},
   "outputs": [],
   "source": [
    "knn = KNeighborsRegressor(n_neighbors=5)\n",
    "knn.fit(X_train, y_train)\n",
    "pred = knn.predict(X_test)"
   ]
  },
  {
   "cell_type": "code",
   "execution_count": 37,
   "id": "cc0ed68e",
   "metadata": {},
   "outputs": [
    {
     "name": "stdout",
     "output_type": "stream",
     "text": [
      "MAE: 7688.1018020429865\n",
      "MSE: 123382366.64570358\n"
     ]
    }
   ],
   "source": [
    "print('MAE:', mean_absolute_error(pred, y_test))\n",
    "print('MSE:', mean_squared_error(pred, y_test))"
   ]
  },
  {
   "cell_type": "markdown",
   "id": "d29b8d2d",
   "metadata": {},
   "source": [
    "Linear Regression"
   ]
  },
  {
   "cell_type": "code",
   "execution_count": 38,
   "id": "0404ad1e",
   "metadata": {},
   "outputs": [],
   "source": [
    "X = df.drop(['charges'], axis=1)\n",
    "y = df['charges']\n",
    "X_train, X_test, y_train, y_test = train_test_split(X, y, test_size=0.33, random_state=42)"
   ]
  },
  {
   "cell_type": "code",
   "execution_count": 39,
   "id": "629a9fb4",
   "metadata": {},
   "outputs": [],
   "source": [
    "lr = LinearRegression()\n",
    "lr.fit(X_train, y_train)\n",
    "lrpred = lr.predict(X_test)"
   ]
  },
  {
   "cell_type": "code",
   "execution_count": 40,
   "id": "6a33132d",
   "metadata": {},
   "outputs": [
    {
     "name": "stdout",
     "output_type": "stream",
     "text": [
      "MAE: 4193.4630219321425\n",
      "MSE: 35090225.725625664\n"
     ]
    }
   ],
   "source": [
    "print('MAE:', mean_absolute_error(lrpred, y_test))\n",
    "print('MSE:', mean_squared_error(lrpred, y_test))"
   ]
  }
 ],
 "metadata": {
  "kernelspec": {
   "display_name": "Python 3.8.8 ('base')",
   "language": "python",
   "name": "python3"
  },
  "language_info": {
   "codemirror_mode": {
    "name": "ipython",
    "version": 3
   },
   "file_extension": ".py",
   "mimetype": "text/x-python",
   "name": "python",
   "nbconvert_exporter": "python",
   "pygments_lexer": "ipython3",
   "version": "3.8.8"
  },
  "vscode": {
   "interpreter": {
    "hash": "88279d2366fe020547cde40dd65aa0e3aa662a6ec1f3ca12d88834876c85e1a6"
   }
  }
 },
 "nbformat": 4,
 "nbformat_minor": 5
}
