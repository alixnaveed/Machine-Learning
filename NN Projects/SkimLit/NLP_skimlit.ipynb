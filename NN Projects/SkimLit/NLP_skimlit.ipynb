{
  "nbformat": 4,
  "nbformat_minor": 0,
  "metadata": {
    "colab": {
      "provenance": []
    },
    "kernelspec": {
      "name": "python3",
      "display_name": "Python 3"
    },
    "language_info": {
      "name": "python"
    },
    "accelerator": "GPU"
  },
  "cells": [
    {
      "cell_type": "code",
      "execution_count": null,
      "metadata": {
        "colab": {
          "base_uri": "https://localhost:8080/"
        },
        "id": "vd1v6jgTMU3G",
        "outputId": "22468b42-7dba-4746-c986-9ae9a7b8de65"
      },
      "outputs": [
        {
          "output_type": "stream",
          "name": "stdout",
          "text": [
            "GPU 0: Tesla T4 (UUID: GPU-75c8cae5-cfd1-3b0f-40cc-dd58483b5233)\n"
          ]
        }
      ],
      "source": [
        "!nvidia-smi -L"
      ]
    },
    {
      "cell_type": "code",
      "source": [],
      "metadata": {
        "id": "tlxIVRh3iMXA"
      },
      "execution_count": null,
      "outputs": []
    },
    {
      "cell_type": "code",
      "source": [
        "!git clone https://github.com/Franck-Dernoncourt/pubmed-rct.git\n",
        "!ls pubmed-rct\n"
      ],
      "metadata": {
        "colab": {
          "base_uri": "https://localhost:8080/"
        },
        "id": "kP637M5FMer3",
        "outputId": "e191aec9-95c5-4042-ea82-702fce141815"
      },
      "execution_count": null,
      "outputs": [
        {
          "output_type": "stream",
          "name": "stdout",
          "text": [
            "Cloning into 'pubmed-rct'...\n",
            "remote: Enumerating objects: 33, done.\u001b[K\n",
            "remote: Counting objects: 100% (8/8), done.\u001b[K\n",
            "remote: Compressing objects: 100% (3/3), done.\u001b[K\n",
            "remote: Total 33 (delta 5), reused 5 (delta 5), pack-reused 25\u001b[K\n",
            "Unpacking objects: 100% (33/33), done.\n",
            "PubMed_200k_RCT\n",
            "PubMed_200k_RCT_numbers_replaced_with_at_sign\n",
            "PubMed_20k_RCT\n",
            "PubMed_20k_RCT_numbers_replaced_with_at_sign\n",
            "README.md\n"
          ]
        }
      ]
    },
    {
      "cell_type": "code",
      "source": [
        "!ls pubmed-rct/PubMed_20k_RCT_numbers_replaced_with_at_sign"
      ],
      "metadata": {
        "colab": {
          "base_uri": "https://localhost:8080/"
        },
        "id": "K0Vtbs4_MsIt",
        "outputId": "fcb7d833-247f-4959-8671-ed08a37e131f"
      },
      "execution_count": null,
      "outputs": [
        {
          "output_type": "stream",
          "name": "stdout",
          "text": [
            "dev.txt  test.txt  train.txt\n"
          ]
        }
      ]
    },
    {
      "cell_type": "code",
      "source": [
        "data_dir = 'pubmed-rct/PubMed_20k_RCT_numbers_replaced_with_at_sign/'"
      ],
      "metadata": {
        "id": "cotttYzONDL7"
      },
      "execution_count": null,
      "outputs": []
    },
    {
      "cell_type": "code",
      "source": [
        "import os\n",
        "filenames = [data_dir + filename for filename in os.listdir(data_dir)]\n",
        "filenames"
      ],
      "metadata": {
        "colab": {
          "base_uri": "https://localhost:8080/"
        },
        "id": "oK7o1B_JTkc3",
        "outputId": "5e334c47-d50d-42bc-e1b5-bf3cdc2a70fb"
      },
      "execution_count": null,
      "outputs": [
        {
          "output_type": "execute_result",
          "data": {
            "text/plain": [
              "['pubmed-rct/PubMed_20k_RCT_numbers_replaced_with_at_sign/dev.txt',\n",
              " 'pubmed-rct/PubMed_20k_RCT_numbers_replaced_with_at_sign/test.txt',\n",
              " 'pubmed-rct/PubMed_20k_RCT_numbers_replaced_with_at_sign/train.txt']"
            ]
          },
          "metadata": {},
          "execution_count": 5
        }
      ]
    },
    {
      "cell_type": "code",
      "source": [
        "def get_lines(filename):\n",
        "  with open(filename, \"r\") as f:\n",
        "    return f.readlines()"
      ],
      "metadata": {
        "id": "CYg4PtUJTsHB"
      },
      "execution_count": null,
      "outputs": []
    },
    {
      "cell_type": "code",
      "source": [
        "line = get_lines(data_dir+'train.txt')"
      ],
      "metadata": {
        "id": "Xqlo4lb8UBDi"
      },
      "execution_count": null,
      "outputs": []
    },
    {
      "cell_type": "code",
      "source": [
        "def preprocess_text_with_line_numbers(filename):\n",
        "  \"\"\"Returns a list of dictionaries of abstract line data.\n",
        "\n",
        "  Takes in filename, reads its contents and sorts through each line,\n",
        "  extracting things like the target label, the text of the sentence,\n",
        "  how many sentences are in the current abstract and what sentence number\n",
        "  the target line is.\n",
        "\n",
        "  Args:\n",
        "      filename: a string of the target text file to read and extract line data\n",
        "      from.\n",
        "\n",
        "  Returns:\n",
        "      A list of dictionaries each containing a line from an abstract,\n",
        "      the lines label, the lines position in the abstract and the total number\n",
        "      of lines in the abstract where the line is from. For example:\n",
        "\n",
        "      [{\"target\": 'CONCLUSION',\n",
        "        \"text\": The study couldn't have gone better, turns out people are kinder than you think\",\n",
        "        \"line_number\": 8,\n",
        "        \"total_lines\": 8}]\n",
        "  \"\"\"\n",
        "  input_lines = get_lines(filename) # get all lines from filename\n",
        "  abstract_lines = \"\" # create an empty abstract\n",
        "  abstract_samples = [] # create an empty list of abstracts\n",
        "  \n",
        "  # Loop through each line in target file\n",
        "  for line in input_lines:\n",
        "    if line.startswith(\"###\"): # check to see if line is an ID line\n",
        "      abstract_id = line\n",
        "      abstract_lines = \"\" # reset abstract string\n",
        "    elif line.isspace(): # check to see if line is a new line\n",
        "      abstract_line_split = abstract_lines.splitlines() # split abstract into separate lines\n",
        "\n",
        "      # Iterate through each line in abstract and count them at the same time\n",
        "      for abstract_line_number, abstract_line in enumerate(abstract_line_split):\n",
        "        line_data = {} # create empty dict to store data from line\n",
        "        target_text_split = abstract_line.split(\"\\t\") # split target label from text\n",
        "        line_data[\"line_number\"] = abstract_line_number\n",
        "        line_data[\"target\"] = target_text_split[0] # get target label\n",
        "        line_data[\"text\"] = target_text_split[1].lower() # get target text and lower it # what number line does the line appear in the abstract?\n",
        "        line_data[\"total_lines\"] = len(abstract_line_split) - 1 # how many total lines are in the abstract? (start from 0)\n",
        "        abstract_samples.append(line_data) # add line data to abstract samples list\n",
        "    \n",
        "    else: # if the above conditions aren't fulfilled, the line contains a labelled sentence\n",
        "      abstract_lines += line\n",
        "  \n",
        "  return abstract_samples"
      ],
      "metadata": {
        "id": "Bzy_Mr2eUPxm"
      },
      "execution_count": null,
      "outputs": []
    },
    {
      "cell_type": "code",
      "source": [
        "train_samples = preprocess_text_with_line_numbers(data_dir + \"train.txt\")\n",
        "val_samples = preprocess_text_with_line_numbers(data_dir + \"dev.txt\") # dev is another name for validation set\n",
        "test_samples = preprocess_text_with_line_numbers(data_dir + \"test.txt\")\n",
        "len(train_samples), len(val_samples), len(test_samples)"
      ],
      "metadata": {
        "id": "y3qbjdfwX-50",
        "colab": {
          "base_uri": "https://localhost:8080/"
        },
        "outputId": "b39d6586-acd5-4151-cb62-e5f43b3abf0f"
      },
      "execution_count": null,
      "outputs": [
        {
          "output_type": "execute_result",
          "data": {
            "text/plain": [
              "(180040, 30212, 30135)"
            ]
          },
          "metadata": {},
          "execution_count": 9
        }
      ]
    },
    {
      "cell_type": "code",
      "source": [
        "train_samples[:14]"
      ],
      "metadata": {
        "colab": {
          "base_uri": "https://localhost:8080/"
        },
        "id": "pc9Ca4XlUSW6",
        "outputId": "153c232d-c597-4c27-db04-cb1b43133f78"
      },
      "execution_count": null,
      "outputs": [
        {
          "output_type": "execute_result",
          "data": {
            "text/plain": [
              "[{'line_number': 0,\n",
              "  'target': 'OBJECTIVE',\n",
              "  'text': 'to investigate the efficacy of @ weeks of daily low-dose oral prednisolone in improving pain , mobility , and systemic low-grade inflammation in the short term and whether the effect would be sustained at @ weeks in older adults with moderate to severe knee osteoarthritis ( oa ) .',\n",
              "  'total_lines': 11},\n",
              " {'line_number': 1,\n",
              "  'target': 'METHODS',\n",
              "  'text': 'a total of @ patients with primary knee oa were randomized @:@ ; @ received @ mg/day of prednisolone and @ received placebo for @ weeks .',\n",
              "  'total_lines': 11},\n",
              " {'line_number': 2,\n",
              "  'target': 'METHODS',\n",
              "  'text': 'outcome measures included pain reduction and improvement in function scores and systemic inflammation markers .',\n",
              "  'total_lines': 11},\n",
              " {'line_number': 3,\n",
              "  'target': 'METHODS',\n",
              "  'text': 'pain was assessed using the visual analog pain scale ( @-@ mm ) .',\n",
              "  'total_lines': 11},\n",
              " {'line_number': 4,\n",
              "  'target': 'METHODS',\n",
              "  'text': 'secondary outcome measures included the western ontario and mcmaster universities osteoarthritis index scores , patient global assessment ( pga ) of the severity of knee oa , and @-min walk distance ( @mwd ) .',\n",
              "  'total_lines': 11},\n",
              " {'line_number': 5,\n",
              "  'target': 'METHODS',\n",
              "  'text': 'serum levels of interleukin @ ( il-@ ) , il-@ , tumor necrosis factor ( tnf ) - , and high-sensitivity c-reactive protein ( hscrp ) were measured .',\n",
              "  'total_lines': 11},\n",
              " {'line_number': 6,\n",
              "  'target': 'RESULTS',\n",
              "  'text': 'there was a clinically relevant reduction in the intervention group compared to the placebo group for knee pain , physical function , pga , and @mwd at @ weeks .',\n",
              "  'total_lines': 11},\n",
              " {'line_number': 7,\n",
              "  'target': 'RESULTS',\n",
              "  'text': 'the mean difference between treatment arms ( @ % ci ) was @ ( @-@ @ ) , p < @ ; @ ( @-@ @ ) , p < @ ; @ ( @-@ @ ) , p < @ ; and @ ( @-@ @ ) , p < @ , respectively .',\n",
              "  'total_lines': 11},\n",
              " {'line_number': 8,\n",
              "  'target': 'RESULTS',\n",
              "  'text': 'further , there was a clinically relevant reduction in the serum levels of il-@ , il-@ , tnf - , and hscrp at @ weeks in the intervention group when compared to the placebo group .',\n",
              "  'total_lines': 11},\n",
              " {'line_number': 9,\n",
              "  'target': 'RESULTS',\n",
              "  'text': 'these differences remained significant at @ weeks .',\n",
              "  'total_lines': 11},\n",
              " {'line_number': 10,\n",
              "  'target': 'RESULTS',\n",
              "  'text': 'the outcome measures in rheumatology clinical trials-osteoarthritis research society international responder rate was @ % in the intervention group and @ % in the placebo group ( p < @ ) .',\n",
              "  'total_lines': 11},\n",
              " {'line_number': 11,\n",
              "  'target': 'CONCLUSIONS',\n",
              "  'text': 'low-dose oral prednisolone had both a short-term and a longer sustained effect resulting in less knee pain , better physical function , and attenuation of systemic inflammation in older patients with knee oa ( clinicaltrials.gov identifier nct@ ) .',\n",
              "  'total_lines': 11},\n",
              " {'line_number': 0,\n",
              "  'target': 'BACKGROUND',\n",
              "  'text': 'emotional eating is associated with overeating and the development of obesity .',\n",
              "  'total_lines': 10},\n",
              " {'line_number': 1,\n",
              "  'target': 'BACKGROUND',\n",
              "  'text': 'yet , empirical evidence for individual ( trait ) differences in emotional eating and cognitive mechanisms that contribute to eating during sad mood remain equivocal .',\n",
              "  'total_lines': 10}]"
            ]
          },
          "metadata": {},
          "execution_count": 10
        }
      ]
    },
    {
      "cell_type": "code",
      "source": [
        "import pandas as pd\n",
        "train_df = pd.DataFrame(train_samples)\n",
        "val_df = pd.DataFrame(val_samples)\n",
        "test_df = pd.DataFrame(test_samples)\n",
        "train_df.head(14)"
      ],
      "metadata": {
        "colab": {
          "base_uri": "https://localhost:8080/",
          "height": 532
        },
        "id": "xKesNrBridEt",
        "outputId": "fae4480e-9e86-43b6-b8a7-231108cbb37b"
      },
      "execution_count": null,
      "outputs": [
        {
          "output_type": "execute_result",
          "data": {
            "text/plain": [
              "    line_number       target  \\\n",
              "0             0    OBJECTIVE   \n",
              "1             1      METHODS   \n",
              "2             2      METHODS   \n",
              "3             3      METHODS   \n",
              "4             4      METHODS   \n",
              "5             5      METHODS   \n",
              "6             6      RESULTS   \n",
              "7             7      RESULTS   \n",
              "8             8      RESULTS   \n",
              "9             9      RESULTS   \n",
              "10           10      RESULTS   \n",
              "11           11  CONCLUSIONS   \n",
              "12            0   BACKGROUND   \n",
              "13            1   BACKGROUND   \n",
              "\n",
              "                                                 text  total_lines  \n",
              "0   to investigate the efficacy of @ weeks of dail...           11  \n",
              "1   a total of @ patients with primary knee oa wer...           11  \n",
              "2   outcome measures included pain reduction and i...           11  \n",
              "3   pain was assessed using the visual analog pain...           11  \n",
              "4   secondary outcome measures included the wester...           11  \n",
              "5   serum levels of interleukin @ ( il-@ ) , il-@ ...           11  \n",
              "6   there was a clinically relevant reduction in t...           11  \n",
              "7   the mean difference between treatment arms ( @...           11  \n",
              "8   further , there was a clinically relevant redu...           11  \n",
              "9   these differences remained significant at @ we...           11  \n",
              "10  the outcome measures in rheumatology clinical ...           11  \n",
              "11  low-dose oral prednisolone had both a short-te...           11  \n",
              "12  emotional eating is associated with overeating...           10  \n",
              "13  yet , empirical evidence for individual ( trai...           10  "
            ],
            "text/html": [
              "\n",
              "  <div id=\"df-81d8b48e-ead2-4cb8-af56-db13fd555317\">\n",
              "    <div class=\"colab-df-container\">\n",
              "      <div>\n",
              "<style scoped>\n",
              "    .dataframe tbody tr th:only-of-type {\n",
              "        vertical-align: middle;\n",
              "    }\n",
              "\n",
              "    .dataframe tbody tr th {\n",
              "        vertical-align: top;\n",
              "    }\n",
              "\n",
              "    .dataframe thead th {\n",
              "        text-align: right;\n",
              "    }\n",
              "</style>\n",
              "<table border=\"1\" class=\"dataframe\">\n",
              "  <thead>\n",
              "    <tr style=\"text-align: right;\">\n",
              "      <th></th>\n",
              "      <th>line_number</th>\n",
              "      <th>target</th>\n",
              "      <th>text</th>\n",
              "      <th>total_lines</th>\n",
              "    </tr>\n",
              "  </thead>\n",
              "  <tbody>\n",
              "    <tr>\n",
              "      <th>0</th>\n",
              "      <td>0</td>\n",
              "      <td>OBJECTIVE</td>\n",
              "      <td>to investigate the efficacy of @ weeks of dail...</td>\n",
              "      <td>11</td>\n",
              "    </tr>\n",
              "    <tr>\n",
              "      <th>1</th>\n",
              "      <td>1</td>\n",
              "      <td>METHODS</td>\n",
              "      <td>a total of @ patients with primary knee oa wer...</td>\n",
              "      <td>11</td>\n",
              "    </tr>\n",
              "    <tr>\n",
              "      <th>2</th>\n",
              "      <td>2</td>\n",
              "      <td>METHODS</td>\n",
              "      <td>outcome measures included pain reduction and i...</td>\n",
              "      <td>11</td>\n",
              "    </tr>\n",
              "    <tr>\n",
              "      <th>3</th>\n",
              "      <td>3</td>\n",
              "      <td>METHODS</td>\n",
              "      <td>pain was assessed using the visual analog pain...</td>\n",
              "      <td>11</td>\n",
              "    </tr>\n",
              "    <tr>\n",
              "      <th>4</th>\n",
              "      <td>4</td>\n",
              "      <td>METHODS</td>\n",
              "      <td>secondary outcome measures included the wester...</td>\n",
              "      <td>11</td>\n",
              "    </tr>\n",
              "    <tr>\n",
              "      <th>5</th>\n",
              "      <td>5</td>\n",
              "      <td>METHODS</td>\n",
              "      <td>serum levels of interleukin @ ( il-@ ) , il-@ ...</td>\n",
              "      <td>11</td>\n",
              "    </tr>\n",
              "    <tr>\n",
              "      <th>6</th>\n",
              "      <td>6</td>\n",
              "      <td>RESULTS</td>\n",
              "      <td>there was a clinically relevant reduction in t...</td>\n",
              "      <td>11</td>\n",
              "    </tr>\n",
              "    <tr>\n",
              "      <th>7</th>\n",
              "      <td>7</td>\n",
              "      <td>RESULTS</td>\n",
              "      <td>the mean difference between treatment arms ( @...</td>\n",
              "      <td>11</td>\n",
              "    </tr>\n",
              "    <tr>\n",
              "      <th>8</th>\n",
              "      <td>8</td>\n",
              "      <td>RESULTS</td>\n",
              "      <td>further , there was a clinically relevant redu...</td>\n",
              "      <td>11</td>\n",
              "    </tr>\n",
              "    <tr>\n",
              "      <th>9</th>\n",
              "      <td>9</td>\n",
              "      <td>RESULTS</td>\n",
              "      <td>these differences remained significant at @ we...</td>\n",
              "      <td>11</td>\n",
              "    </tr>\n",
              "    <tr>\n",
              "      <th>10</th>\n",
              "      <td>10</td>\n",
              "      <td>RESULTS</td>\n",
              "      <td>the outcome measures in rheumatology clinical ...</td>\n",
              "      <td>11</td>\n",
              "    </tr>\n",
              "    <tr>\n",
              "      <th>11</th>\n",
              "      <td>11</td>\n",
              "      <td>CONCLUSIONS</td>\n",
              "      <td>low-dose oral prednisolone had both a short-te...</td>\n",
              "      <td>11</td>\n",
              "    </tr>\n",
              "    <tr>\n",
              "      <th>12</th>\n",
              "      <td>0</td>\n",
              "      <td>BACKGROUND</td>\n",
              "      <td>emotional eating is associated with overeating...</td>\n",
              "      <td>10</td>\n",
              "    </tr>\n",
              "    <tr>\n",
              "      <th>13</th>\n",
              "      <td>1</td>\n",
              "      <td>BACKGROUND</td>\n",
              "      <td>yet , empirical evidence for individual ( trai...</td>\n",
              "      <td>10</td>\n",
              "    </tr>\n",
              "  </tbody>\n",
              "</table>\n",
              "</div>\n",
              "      <button class=\"colab-df-convert\" onclick=\"convertToInteractive('df-81d8b48e-ead2-4cb8-af56-db13fd555317')\"\n",
              "              title=\"Convert this dataframe to an interactive table.\"\n",
              "              style=\"display:none;\">\n",
              "        \n",
              "  <svg xmlns=\"http://www.w3.org/2000/svg\" height=\"24px\"viewBox=\"0 0 24 24\"\n",
              "       width=\"24px\">\n",
              "    <path d=\"M0 0h24v24H0V0z\" fill=\"none\"/>\n",
              "    <path d=\"M18.56 5.44l.94 2.06.94-2.06 2.06-.94-2.06-.94-.94-2.06-.94 2.06-2.06.94zm-11 1L8.5 8.5l.94-2.06 2.06-.94-2.06-.94L8.5 2.5l-.94 2.06-2.06.94zm10 10l.94 2.06.94-2.06 2.06-.94-2.06-.94-.94-2.06-.94 2.06-2.06.94z\"/><path d=\"M17.41 7.96l-1.37-1.37c-.4-.4-.92-.59-1.43-.59-.52 0-1.04.2-1.43.59L10.3 9.45l-7.72 7.72c-.78.78-.78 2.05 0 2.83L4 21.41c.39.39.9.59 1.41.59.51 0 1.02-.2 1.41-.59l7.78-7.78 2.81-2.81c.8-.78.8-2.07 0-2.86zM5.41 20L4 18.59l7.72-7.72 1.47 1.35L5.41 20z\"/>\n",
              "  </svg>\n",
              "      </button>\n",
              "      \n",
              "  <style>\n",
              "    .colab-df-container {\n",
              "      display:flex;\n",
              "      flex-wrap:wrap;\n",
              "      gap: 12px;\n",
              "    }\n",
              "\n",
              "    .colab-df-convert {\n",
              "      background-color: #E8F0FE;\n",
              "      border: none;\n",
              "      border-radius: 50%;\n",
              "      cursor: pointer;\n",
              "      display: none;\n",
              "      fill: #1967D2;\n",
              "      height: 32px;\n",
              "      padding: 0 0 0 0;\n",
              "      width: 32px;\n",
              "    }\n",
              "\n",
              "    .colab-df-convert:hover {\n",
              "      background-color: #E2EBFA;\n",
              "      box-shadow: 0px 1px 2px rgba(60, 64, 67, 0.3), 0px 1px 3px 1px rgba(60, 64, 67, 0.15);\n",
              "      fill: #174EA6;\n",
              "    }\n",
              "\n",
              "    [theme=dark] .colab-df-convert {\n",
              "      background-color: #3B4455;\n",
              "      fill: #D2E3FC;\n",
              "    }\n",
              "\n",
              "    [theme=dark] .colab-df-convert:hover {\n",
              "      background-color: #434B5C;\n",
              "      box-shadow: 0px 1px 3px 1px rgba(0, 0, 0, 0.15);\n",
              "      filter: drop-shadow(0px 1px 2px rgba(0, 0, 0, 0.3));\n",
              "      fill: #FFFFFF;\n",
              "    }\n",
              "  </style>\n",
              "\n",
              "      <script>\n",
              "        const buttonEl =\n",
              "          document.querySelector('#df-81d8b48e-ead2-4cb8-af56-db13fd555317 button.colab-df-convert');\n",
              "        buttonEl.style.display =\n",
              "          google.colab.kernel.accessAllowed ? 'block' : 'none';\n",
              "\n",
              "        async function convertToInteractive(key) {\n",
              "          const element = document.querySelector('#df-81d8b48e-ead2-4cb8-af56-db13fd555317');\n",
              "          const dataTable =\n",
              "            await google.colab.kernel.invokeFunction('convertToInteractive',\n",
              "                                                     [key], {});\n",
              "          if (!dataTable) return;\n",
              "\n",
              "          const docLinkHtml = 'Like what you see? Visit the ' +\n",
              "            '<a target=\"_blank\" href=https://colab.research.google.com/notebooks/data_table.ipynb>data table notebook</a>'\n",
              "            + ' to learn more about interactive tables.';\n",
              "          element.innerHTML = '';\n",
              "          dataTable['output_type'] = 'display_data';\n",
              "          await google.colab.output.renderOutput(dataTable, element);\n",
              "          const docLink = document.createElement('div');\n",
              "          docLink.innerHTML = docLinkHtml;\n",
              "          element.appendChild(docLink);\n",
              "        }\n",
              "      </script>\n",
              "    </div>\n",
              "  </div>\n",
              "  "
            ]
          },
          "metadata": {},
          "execution_count": 11
        }
      ]
    },
    {
      "cell_type": "code",
      "source": [
        "train_df.target.value_counts()"
      ],
      "metadata": {
        "colab": {
          "base_uri": "https://localhost:8080/"
        },
        "id": "kgjjWrk6lThh",
        "outputId": "b02a0c8b-a8f4-48ca-afcc-ddb920854821"
      },
      "execution_count": null,
      "outputs": [
        {
          "output_type": "execute_result",
          "data": {
            "text/plain": [
              "METHODS        59353\n",
              "RESULTS        57953\n",
              "CONCLUSIONS    27168\n",
              "BACKGROUND     21727\n",
              "OBJECTIVE      13839\n",
              "Name: target, dtype: int64"
            ]
          },
          "metadata": {},
          "execution_count": 12
        }
      ]
    },
    {
      "cell_type": "code",
      "source": [
        "train_df.total_lines.plot.hist()"
      ],
      "metadata": {
        "colab": {
          "base_uri": "https://localhost:8080/",
          "height": 284
        },
        "id": "S56AKy_klxZx",
        "outputId": "51be4242-07a3-4abf-cea7-6872ca4f570b"
      },
      "execution_count": null,
      "outputs": [
        {
          "output_type": "execute_result",
          "data": {
            "text/plain": [
              "<matplotlib.axes._subplots.AxesSubplot at 0x7fd16de44d90>"
            ]
          },
          "metadata": {},
          "execution_count": 13
        },
        {
          "output_type": "display_data",
          "data": {
            "text/plain": [
              "<Figure size 432x288 with 1 Axes>"
            ],
            "image/png": "[encoded data removed]"
          },
          "metadata": {
            "needs_background": "light"
          }
        }
      ]
    },
    {
      "cell_type": "code",
      "source": [
        "train_sentences = train_df[\"text\"].tolist()\n",
        "val_sentences = val_df[\"text\"].tolist()\n",
        "test_sentences = test_df[\"text\"].tolist()"
      ],
      "metadata": {
        "id": "YxLT3TjpmOW0"
      },
      "execution_count": null,
      "outputs": []
    },
    {
      "cell_type": "code",
      "source": [
        "from sklearn.preprocessing import OneHotEncoder\n",
        "oh_encoder = OneHotEncoder(sparse=False)\n",
        "train_labels_oh_encoded = oh_encoder.fit_transform(train_df['target'].to_numpy().reshape(-1,1))\n",
        "val_labels_oh_encoded = oh_encoder.transform(val_df['target'].to_numpy().reshape(-1,1))\n",
        "test_labels_oh_encoded = oh_encoder.transform(test_df['target'].to_numpy().reshape(-1,1))"
      ],
      "metadata": {
        "id": "zRKf2Lvlu9vl"
      },
      "execution_count": null,
      "outputs": []
    },
    {
      "cell_type": "code",
      "source": [
        "from sklearn.preprocessing import LabelEncoder\n",
        "label_encoder = LabelEncoder()\n",
        "train_labels_encoded = label_encoder.fit_transform(train_df[\"target\"].to_numpy())\n",
        "val_labels_encoded = label_encoder.transform(val_df[\"target\"].to_numpy())\n",
        "test_labels_encoded = label_encoder.transform(test_df[\"target\"].to_numpy())"
      ],
      "metadata": {
        "id": "y5t2wjpEmZJ4"
      },
      "execution_count": null,
      "outputs": []
    },
    {
      "cell_type": "code",
      "source": [
        "num_classes = len(label_encoder.classes_)\n",
        "class_names = label_encoder.classes_\n",
        "num_classes, class_names"
      ],
      "metadata": {
        "colab": {
          "base_uri": "https://localhost:8080/"
        },
        "id": "h2oDemimwImw",
        "outputId": "45ccdfb6-f7b1-495a-bca7-cfa8d0271fd4"
      },
      "execution_count": null,
      "outputs": [
        {
          "output_type": "execute_result",
          "data": {
            "text/plain": [
              "(5, array(['BACKGROUND', 'CONCLUSIONS', 'METHODS', 'OBJECTIVE', 'RESULTS'],\n",
              "       dtype=object))"
            ]
          },
          "metadata": {},
          "execution_count": 17
        }
      ]
    },
    {
      "cell_type": "markdown",
      "source": [
        "Model 0"
      ],
      "metadata": {
        "id": "zfUTVG-LxtaZ"
      }
    },
    {
      "cell_type": "code",
      "source": [
        "from sklearn.feature_extraction.text import TfidfVectorizer\n",
        "from sklearn.naive_bayes import MultinomialNB\n",
        "from sklearn.pipeline import Pipeline\n",
        "\n",
        "# Create a pipeline\n",
        "model_0 = Pipeline([\n",
        "  (\"tf-idf\", TfidfVectorizer()),\n",
        "  (\"clf\", MultinomialNB())\n",
        "])\n",
        "\n",
        "# Fit the pipeline to the training data\n",
        "model_0.fit(X=train_sentences, \n",
        "            y=train_labels_encoded)"
      ],
      "metadata": {
        "colab": {
          "base_uri": "https://localhost:8080/"
        },
        "id": "EndZoGfqxYw-",
        "outputId": "275ad1b5-fc16-4968-eb4c-41199623a241"
      },
      "execution_count": null,
      "outputs": [
        {
          "output_type": "execute_result",
          "data": {
            "text/plain": [
              "Pipeline(steps=[('tf-idf', TfidfVectorizer()), ('clf', MultinomialNB())])"
            ]
          },
          "metadata": {},
          "execution_count": 18
        }
      ]
    },
    {
      "cell_type": "code",
      "source": [
        "model_0.score(X=val_sentences, y=val_labels_encoded)"
      ],
      "metadata": {
        "colab": {
          "base_uri": "https://localhost:8080/"
        },
        "id": "3by84jXFx2FM",
        "outputId": "19f07344-deec-4f7a-871c-4ac7c46ed236"
      },
      "execution_count": null,
      "outputs": [
        {
          "output_type": "execute_result",
          "data": {
            "text/plain": [
              "0.7218323844829869"
            ]
          },
          "metadata": {},
          "execution_count": 19
        }
      ]
    },
    {
      "cell_type": "code",
      "source": [
        "import numpy as np\n",
        "import tensorflow as tf\n",
        "from tensorflow.keras import layers"
      ],
      "metadata": {
        "id": "LFHNJgF1p1U1"
      },
      "execution_count": null,
      "outputs": []
    },
    {
      "cell_type": "code",
      "source": [
        "sent_lens = [len(sentence.split()) for sentence in train_sentences]\n",
        "avg_sent_len = np.mean(sent_lens)\n",
        "avg_sent_len"
      ],
      "metadata": {
        "colab": {
          "base_uri": "https://localhost:8080/"
        },
        "id": "Yynx8bbEyD-l",
        "outputId": "277c6ec1-2c4e-4571-8f52-af7ccbcee368"
      },
      "execution_count": null,
      "outputs": [
        {
          "output_type": "execute_result",
          "data": {
            "text/plain": [
              "26.338269273494777"
            ]
          },
          "metadata": {},
          "execution_count": 21
        }
      ]
    },
    {
      "cell_type": "code",
      "source": [
        "output_seq_len = int(np.percentile(sent_lens, 95))\n",
        "output_seq_len"
      ],
      "metadata": {
        "colab": {
          "base_uri": "https://localhost:8080/"
        },
        "id": "OZDahX9upUub",
        "outputId": "ed130164-3bd9-4508-8f7e-e3db2a8277f2"
      },
      "execution_count": null,
      "outputs": [
        {
          "output_type": "execute_result",
          "data": {
            "text/plain": [
              "55"
            ]
          },
          "metadata": {},
          "execution_count": 22
        }
      ]
    },
    {
      "cell_type": "code",
      "source": [
        "text_vectorizer = tf.keras.layers.TextVectorization(max_tokens=68000, output_sequence_length=55)"
      ],
      "metadata": {
        "id": "MRKoInbRqMHT"
      },
      "execution_count": null,
      "outputs": []
    },
    {
      "cell_type": "code",
      "source": [
        "text_vectorizer.adapt(train_sentences)"
      ],
      "metadata": {
        "id": "3Mgn5es2rT3h"
      },
      "execution_count": null,
      "outputs": []
    },
    {
      "cell_type": "code",
      "source": [
        "import random\n",
        "ransen = random.choice(train_sentences)\n",
        "print(ransen)\n",
        "print('--------------------')\n",
        "print(text_vectorizer([ransen]))"
      ],
      "metadata": {
        "colab": {
          "base_uri": "https://localhost:8080/"
        },
        "id": "eeVimZXOrfvq",
        "outputId": "3eabc180-7206-445f-c735-2269cd285bd4"
      },
      "execution_count": null,
      "outputs": [
        {
          "output_type": "stream",
          "name": "stdout",
          "text": [
            "peak strain was highest in the rv free wall and lowest in the septum .\n",
            "--------------------\n",
            "tf.Tensor(\n",
            "[[  690  1679    10  1142     5     2  2467   947  1983     3  1999     5\n",
            "      2 12385     0     0     0     0     0     0     0     0     0     0\n",
            "      0     0     0     0     0     0     0     0     0     0     0     0\n",
            "      0     0     0     0     0     0     0     0     0     0     0     0\n",
            "      0     0     0     0     0     0     0]], shape=(1, 55), dtype=int64)\n"
          ]
        }
      ]
    },
    {
      "cell_type": "code",
      "source": [
        "rct_20k_text_vocab = text_vectorizer.get_vocabulary()\n",
        "print(f\"Number of words in vocabulary: {len(rct_20k_text_vocab)}\"), \n",
        "print(f\"Most common words in the vocabulary: {rct_20k_text_vocab[:5]}\")\n",
        "print(f\"Least common words in the vocabulary: {rct_20k_text_vocab[-5:]}\")"
      ],
      "metadata": {
        "colab": {
          "base_uri": "https://localhost:8080/"
        },
        "id": "qTxdmZO2sS-E",
        "outputId": "f4a33b33-bb2d-467d-8e3b-449f7d2f0b61"
      },
      "execution_count": null,
      "outputs": [
        {
          "output_type": "stream",
          "name": "stdout",
          "text": [
            "Number of words in vocabulary: 64841\n",
            "Most common words in the vocabulary: ['', '[UNK]', 'the', 'and', 'of']\n",
            "Least common words in the vocabulary: ['aainduced', 'aaigroup', 'aachener', 'aachen', 'aaacp']\n"
          ]
        }
      ]
    },
    {
      "cell_type": "code",
      "source": [
        "cust_embedding = tf.keras.layers.Embedding(input_dim=len(rct_20k_text_vocab), output_dim=128, mask_zero=True, name=\"token_embedding\")\n",
        "\n",
        "print(f\"Sentence before vectorization:\\n{ransen}\\n\")\n",
        "vectorized_sentence = text_vectorizer([ransen])\n",
        "print(f\"Sentence after vectorization (before embedding):\\n{vectorized_sentence}\\n\")\n",
        "embedded_sentence = cust_embedding(vectorized_sentence)\n",
        "print(f\"Sentence after embedding:\\n{embedded_sentence}\\n\")\n",
        "print(f\"Embedded sentence shape: {embedded_sentence.shape}\")"
      ],
      "metadata": {
        "colab": {
          "base_uri": "https://localhost:8080/"
        },
        "id": "qGOWrvPQtBPc",
        "outputId": "68714e8a-e9c7-48d6-8f6d-0f53c77d7b8f"
      },
      "execution_count": null,
      "outputs": [
        {
          "output_type": "stream",
          "name": "stdout",
          "text": [
            "Sentence before vectorization:\n",
            "peak strain was highest in the rv free wall and lowest in the septum .\n",
            "\n",
            "Sentence after vectorization (before embedding):\n",
            "[[  690  1679    10  1142     5     2  2467   947  1983     3  1999     5\n",
            "      2 12385     0     0     0     0     0     0     0     0     0     0\n",
            "      0     0     0     0     0     0     0     0     0     0     0     0\n",
            "      0     0     0     0     0     0     0     0     0     0     0     0\n",
            "      0     0     0     0     0     0     0]]\n",
            "\n",
            "Sentence after embedding:\n",
            "[[[ 0.02392984 -0.01119179 -0.04752498 ...  0.000414    0.04304017\n",
            "   -0.01598348]\n",
            "  [-0.03094866 -0.02537059 -0.01793908 ... -0.01328908  0.04056287\n",
            "    0.04262112]\n",
            "  [ 0.00682812  0.00414276 -0.02974626 ... -0.02091924 -0.04910544\n",
            "    0.00227861]\n",
            "  ...\n",
            "  [-0.00445341  0.02154465 -0.04298915 ... -0.03655063  0.00318941\n",
            "    0.00085099]\n",
            "  [-0.00445341  0.02154465 -0.04298915 ... -0.03655063  0.00318941\n",
            "    0.00085099]\n",
            "  [-0.00445341  0.02154465 -0.04298915 ... -0.03655063  0.00318941\n",
            "    0.00085099]]]\n",
            "\n",
            "Embedded sentence shape: (1, 55, 128)\n"
          ]
        }
      ]
    },
    {
      "cell_type": "code",
      "source": [
        "train = tf.data.Dataset.from_tensor_slices((train_sentences, train_labels_oh_encoded))\n",
        "valid = tf.data.Dataset.from_tensor_slices((val_sentences, val_labels_oh_encoded))\n",
        "test = tf.data.Dataset.from_tensor_slices((test_sentences, test_labels_oh_encoded))\n",
        "\n",
        "print(valid)\n",
        "print(train)"
      ],
      "metadata": {
        "colab": {
          "base_uri": "https://localhost:8080/"
        },
        "id": "YIF_uM3nuefN",
        "outputId": "aa80558f-e862-4e88-e085-31039bfaa9e4"
      },
      "execution_count": null,
      "outputs": [
        {
          "output_type": "stream",
          "name": "stdout",
          "text": [
            "<TensorSliceDataset element_spec=(TensorSpec(shape=(), dtype=tf.string, name=None), TensorSpec(shape=(5,), dtype=tf.float64, name=None))>\n",
            "<TensorSliceDataset element_spec=(TensorSpec(shape=(), dtype=tf.string, name=None), TensorSpec(shape=(5,), dtype=tf.float64, name=None))>\n"
          ]
        }
      ]
    },
    {
      "cell_type": "code",
      "source": [
        "train = train.batch(32).prefetch(tf.data.AUTOTUNE)\n",
        "valid = valid.batch(32).prefetch(tf.data.AUTOTUNE)\n",
        "test = test.batch(32).prefetch(tf.data.AUTOTUNE)\n",
        "\n",
        "print(train)\n",
        "print(valid)"
      ],
      "metadata": {
        "colab": {
          "base_uri": "https://localhost:8080/"
        },
        "id": "eO8OLKOqxdnb",
        "outputId": "5a12d6de-0673-43ca-80c8-85e6e2f787a2"
      },
      "execution_count": null,
      "outputs": [
        {
          "output_type": "stream",
          "name": "stdout",
          "text": [
            "<PrefetchDataset element_spec=(TensorSpec(shape=(None,), dtype=tf.string, name=None), TensorSpec(shape=(None, 5), dtype=tf.float64, name=None))>\n",
            "<PrefetchDataset element_spec=(TensorSpec(shape=(None,), dtype=tf.string, name=None), TensorSpec(shape=(None, 5), dtype=tf.float64, name=None))>\n"
          ]
        }
      ]
    },
    {
      "cell_type": "code",
      "source": [
        "inputs = layers.Input(shape=(1,), dtype=tf.string)\n",
        "text_vect = text_vectorizer(inputs)\n",
        "text_embeds = cust_embedding(text_vect)\n",
        "x = layers.Conv1D(64, kernel_size=5, padding='same', activation='relu')(text_embeds)\n",
        "x = tf.keras.layers.GlobalAveragePooling1D()(x)\n",
        "outputs = layers.Dense(num_classes, activation='softmax')(x)\n",
        "\n",
        "model_1 = tf.keras.Model(inputs, outputs)"
      ],
      "metadata": {
        "id": "QCEY91BuzepQ"
      },
      "execution_count": null,
      "outputs": []
    },
    {
      "cell_type": "code",
      "source": [
        "model_1.compile(optimizer=tf.keras.optimizers.Adam(), loss='categorical_crossentropy', metrics=[\"accuracy\"])"
      ],
      "metadata": {
        "id": "kZrdrCD11YjJ"
      },
      "execution_count": null,
      "outputs": []
    },
    {
      "cell_type": "code",
      "source": [
        "model_1.summary()"
      ],
      "metadata": {
        "colab": {
          "base_uri": "https://localhost:8080/"
        },
        "id": "835YkMoQ2tOf",
        "outputId": "c86e2e16-4392-4577-8283-3c9ba98605d9"
      },
      "execution_count": null,
      "outputs": [
        {
          "output_type": "stream",
          "name": "stdout",
          "text": [
            "Model: \"model\"\n",
            "_________________________________________________________________\n",
            " Layer (type)                Output Shape              Param #   \n",
            "=================================================================\n",
            " input_1 (InputLayer)        [(None, 1)]               0         \n",
            "                                                                 \n",
            " text_vectorization (TextVec  (None, 55)               0         \n",
            " torization)                                                     \n",
            "                                                                 \n",
            " token_embedding (Embedding)  (None, 55, 128)          8299648   \n",
            "                                                                 \n",
            " conv1d (Conv1D)             (None, 55, 64)            41024     \n",
            "                                                                 \n",
            " global_average_pooling1d (G  (None, 64)               0         \n",
            " lobalAveragePooling1D)                                          \n",
            "                                                                 \n",
            " dense (Dense)               (None, 5)                 325       \n",
            "                                                                 \n",
            "=================================================================\n",
            "Total params: 8,340,997\n",
            "Trainable params: 8,340,997\n",
            "Non-trainable params: 0\n",
            "_________________________________________________________________\n"
          ]
        }
      ]
    },
    {
      "cell_type": "code",
      "source": [
        "model_1_history = model_1.fit(train, \n",
        "                              steps_per_epoch=int(0.1 * len(train)), # only fit on 10% of batches for faster training time\n",
        "                              epochs=5,\n",
        "                              validation_data=valid,\n",
        "                              validation_steps=int(0.1 * len(valid)))"
      ],
      "metadata": {
        "colab": {
          "base_uri": "https://localhost:8080/"
        },
        "id": "6RrboIe720Ka",
        "outputId": "37b9a9c2-8719-4af7-d677-97f4a874acca"
      },
      "execution_count": null,
      "outputs": [
        {
          "output_type": "stream",
          "name": "stdout",
          "text": [
            "Epoch 1/5\n",
            "562/562 [==============================] - 14s 9ms/step - loss: 0.9129 - accuracy: 0.6393 - val_loss: 0.6828 - val_accuracy: 0.7374\n",
            "Epoch 2/5\n",
            "562/562 [==============================] - 5s 8ms/step - loss: 0.6575 - accuracy: 0.7561 - val_loss: 0.6333 - val_accuracy: 0.7706\n",
            "Epoch 3/5\n",
            "562/562 [==============================] - 5s 8ms/step - loss: 0.6190 - accuracy: 0.7719 - val_loss: 0.5989 - val_accuracy: 0.7839\n",
            "Epoch 4/5\n",
            "562/562 [==============================] - 5s 8ms/step - loss: 0.5913 - accuracy: 0.7857 - val_loss: 0.5813 - val_accuracy: 0.7856\n",
            "Epoch 5/5\n",
            "562/562 [==============================] - 5s 8ms/step - loss: 0.5937 - accuracy: 0.7920 - val_loss: 0.5646 - val_accuracy: 0.7919\n"
          ]
        }
      ]
    },
    {
      "cell_type": "markdown",
      "source": [
        "Model 2 Pre"
      ],
      "metadata": {
        "id": "ZmRKTo5kSDFm"
      }
    },
    {
      "cell_type": "code",
      "source": [
        "import tensorflow_hub as hub\n",
        "tf_hub_embedding_layer = hub.KerasLayer(\"https://tfhub.dev/google/universal-sentence-encoder/4\",\n",
        "                                        trainable=False,\n",
        "                                        name=\"universal_sentence_encoder\")"
      ],
      "metadata": {
        "id": "nQI4uHgG3mgO"
      },
      "execution_count": null,
      "outputs": []
    },
    {
      "cell_type": "code",
      "source": [
        "random_sen = random.choice(train_sentences)\n",
        "print(\"Random:\", random_sen)\n",
        "use_embedded_sentence = tf_hub_embedding_layer([random_sen])\n",
        "print(\"Embedded:\", use_embedded_sentence)"
      ],
      "metadata": {
        "colab": {
          "base_uri": "https://localhost:8080/"
        },
        "id": "lM5rJpTxSCEK",
        "outputId": "891b4798-a962-4153-edc1-1c0d19876b5f"
      },
      "execution_count": null,
      "outputs": [
        {
          "output_type": "stream",
          "name": "stdout",
          "text": [
            "Random: unique identifier : actrn@ .\n",
            "Embedded: tf.Tensor(\n",
            "[[-0.03615514 -0.0389166  -0.07616191  0.04987787  0.06386736  0.04709401\n",
            "  -0.05382137  0.02700108  0.01696251  0.01479829  0.04099126 -0.01065705\n",
            "   0.02424682  0.03208951 -0.00415298  0.05147427  0.03343368 -0.06800051\n",
            "   0.02791684 -0.03603175 -0.06877244  0.05409708 -0.0008023   0.04104339\n",
            "  -0.03892989  0.02705772 -0.0203084   0.02325065  0.08504548  0.00257926\n",
            "   0.06771179 -0.03125552 -0.00588768  0.03701375 -0.03418782  0.04261858\n",
            "  -0.07325924  0.02246653 -0.0398496  -0.08438351 -0.05506907 -0.01883058\n",
            "   0.06222058 -0.05712556 -0.01502369 -0.00652541 -0.04586226 -0.07456279\n",
            "  -0.00957097 -0.02262275 -0.00590971  0.07991472 -0.06341613 -0.00960966\n",
            "  -0.04700842 -0.02485476  0.01377492  0.02220728  0.05540143  0.00347042\n",
            "  -0.06102071 -0.0182141  -0.03056544 -0.05139888 -0.07513305 -0.00232809\n",
            "   0.02533997  0.01937166 -0.01006298  0.00951154 -0.04518506 -0.01854992\n",
            "   0.00520144  0.06637052 -0.0252232   0.03801997 -0.01954051  0.03312464\n",
            "  -0.05237599 -0.03166239 -0.01184548  0.07532792 -0.05335065  0.02444163\n",
            "  -0.00893561  0.02580844  0.02963591 -0.00574252 -0.02977194  0.00332985\n",
            "   0.07505552  0.01454814 -0.03546048  0.0756112   0.00823707 -0.06269937\n",
            "  -0.0813851   0.07897035  0.01681049  0.0179983   0.05155632 -0.06838403\n",
            "  -0.05766401 -0.0148648  -0.02601939  0.06381985 -0.00473482  0.06449588\n",
            "   0.03020331  0.03772217  0.06258103  0.08250958  0.03550464  0.0552677\n",
            "  -0.00374488 -0.01958071  0.01582452  0.05917712  0.04612235  0.01032073\n",
            "  -0.00429242 -0.00412629  0.01575304 -0.01062455 -0.08885098  0.05926887\n",
            "   0.00979209  0.03474489  0.0666766  -0.00413556 -0.04025368  0.0401397\n",
            "   0.00072288  0.03367238  0.00940549  0.05830399  0.0233078   0.00173765\n",
            "  -0.02361019 -0.08611159 -0.03138491  0.03956864 -0.00795169 -0.03821781\n",
            "   0.00065822 -0.04082935 -0.02980584 -0.02080137  0.02567023 -0.06724685\n",
            "  -0.06560373  0.02305809 -0.06578515 -0.02185094  0.05589648  0.02692656\n",
            "   0.06205555 -0.05969819  0.01528292  0.06329297 -0.05659572 -0.05821546\n",
            "   0.04281868  0.05309595  0.01409698 -0.04112614 -0.04628406  0.05533607\n",
            "  -0.01849463 -0.0379554   0.02499338  0.07165132  0.09054135 -0.01558277\n",
            "  -0.03562542  0.05090235  0.07138782  0.07200309  0.02099551 -0.00238359\n",
            "   0.02403628  0.01802991  0.00296675 -0.02119796  0.04200677 -0.05754423\n",
            "   0.01197459  0.05204704  0.00453883 -0.02776881 -0.05571787  0.04526205\n",
            "   0.0693472  -0.09090272  0.01892437 -0.02510805  0.05318455  0.0651913\n",
            "  -0.00466813  0.01140841 -0.02850457  0.0298786   0.07444023  0.08154386\n",
            "   0.02078323 -0.05118835  0.01168013  0.0079724  -0.05723624  0.06617551\n",
            "  -0.0709577   0.02294428 -0.02291505  0.07971103 -0.08838549 -0.06567588\n",
            "  -0.02209534  0.00965749  0.01980599  0.01375204  0.04648598  0.02911484\n",
            "  -0.02096    -0.03666128  0.00311291 -0.02572112  0.06584404  0.07299764\n",
            "   0.04056687 -0.0750367  -0.03555348  0.06933241 -0.03940487  0.07799722\n",
            "   0.04948859  0.00251205  0.01524287  0.05228803  0.03351194 -0.0225012\n",
            "  -0.01560799 -0.00283919  0.02421784 -0.07298139  0.03854738  0.09185854\n",
            "  -0.02094055  0.00726936  0.09273484  0.01939173 -0.01986614 -0.03696058\n",
            "   0.02779152  0.04113543  0.02261272 -0.01791387 -0.0493043  -0.08332951\n",
            "  -0.0651733   0.0492465   0.00281033  0.07404192  0.08416227 -0.00386069\n",
            "  -0.03956265 -0.01933253  0.06470435 -0.07679733  0.01259169  0.0241746\n",
            "   0.05535113 -0.06887583  0.00763764 -0.03767106 -0.03708651  0.0098346\n",
            "   0.0318641  -0.02911858  0.00841068  0.06481466 -0.04176234 -0.05459835\n",
            "  -0.04619616  0.08147446 -0.05054502 -0.03055863  0.01825678  0.05914856\n",
            "   0.01211633  0.04569583  0.01893936  0.00330416 -0.03804523 -0.03147127\n",
            "  -0.01861775 -0.02780501  0.01512099  0.00766586  0.0451846  -0.00095586\n",
            "  -0.07620649  0.03955373  0.02359511  0.01707066  0.04823391 -0.06491915\n",
            "   0.05382901 -0.00032054 -0.03713422  0.00550909 -0.07410421  0.05665789\n",
            "   0.06391188  0.03831112  0.0751005   0.00821108  0.05098486  0.01098598\n",
            "   0.01459028  0.03006792 -0.03633642 -0.02475559  0.00105918 -0.0382915\n",
            "  -0.0856561   0.00227747  0.02532549  0.06780335  0.03588782 -0.00814514\n",
            "  -0.01427186  0.01999673  0.00826906 -0.05378949 -0.00958303  0.02229261\n",
            "  -0.04469268 -0.00738516  0.02034081  0.05870039 -0.04066929  0.04684919\n",
            "  -0.07401552 -0.05472274 -0.03753861  0.03046517  0.08135514  0.04590466\n",
            "  -0.07057595 -0.00056907 -0.01884083 -0.00510986  0.04699647  0.00650713\n",
            "  -0.03246557  0.04156272 -0.08614411  0.01315497  0.0441141  -0.06396118\n",
            "  -0.06296627  0.04467344 -0.01691138  0.07869842  0.06019806 -0.0851901\n",
            "  -0.00460192  0.01302595  0.03048116 -0.01948692 -0.01050018 -0.01500296\n",
            "   0.03555159  0.06288387  0.03390273 -0.057165    0.01913844 -0.01335237\n",
            "  -0.0395853   0.04245728  0.00857305  0.01973096  0.05262703  0.01401823\n",
            "   0.06079398  0.01870621 -0.01547651  0.05502979  0.02558647 -0.01952224\n",
            "  -0.00957613 -0.05155507  0.02188417  0.02802471 -0.02523706 -0.01877094\n",
            "  -0.0650401  -0.02059307 -0.03789499 -0.00556279  0.04962166 -0.06547514\n",
            "  -0.04587606  0.08214723 -0.02517902  0.03453264 -0.06181793 -0.03649887\n",
            "  -0.04667629 -0.09413891 -0.01960493 -0.0315055  -0.06821434  0.0746045\n",
            "  -0.04997014  0.01907915  0.02395207  0.00132693  0.03083842 -0.02330406\n",
            "   0.04468871 -0.00221702  0.06831297 -0.0332184   0.04234175 -0.05860232\n",
            "   0.04361935  0.06743672 -0.02559169  0.02422885 -0.00159405 -0.02824235\n",
            "  -0.00242268 -0.04940942 -0.06730223 -0.07384654 -0.01881618  0.05803834\n",
            "  -0.07344744 -0.06220377  0.06037409 -0.02887288 -0.01950422  0.01220625\n",
            "   0.06626979 -0.01698148 -0.03542062 -0.03677771 -0.06402964  0.00739849\n",
            "   0.00714772 -0.01022006  0.04953138 -0.00617031 -0.01082997  0.01988095\n",
            "  -0.04519719 -0.00658699 -0.0710447  -0.04401553 -0.03047656  0.01991691\n",
            "  -0.01356381 -0.0377037  -0.05889694 -0.08986797 -0.04136977 -0.03152741\n",
            "   0.00630893  0.05447066  0.04247431 -0.04781572  0.00644877  0.02775621\n",
            "  -0.00890475  0.00395308  0.07540627  0.02977889 -0.02447584 -0.01863606\n",
            "   0.04061315 -0.02175882 -0.00837641  0.00863867 -0.0707067   0.06382255\n",
            "   0.06645869 -0.02358868  0.05067115 -0.02436215 -0.00930416 -0.04050809\n",
            "   0.01606946 -0.08738125  0.05115352  0.01327936  0.00908017  0.01365026\n",
            "   0.00506588 -0.06481332  0.02450017  0.06046379 -0.01663823 -0.08373807\n",
            "   0.0781924   0.01026254 -0.01194579 -0.03208115 -0.06522486 -0.02141775\n",
            "  -0.03559299 -0.04555857]], shape=(1, 512), dtype=float32)\n"
          ]
        }
      ]
    },
    {
      "cell_type": "code",
      "source": [
        "inputs = layers.Input(shape=[], dtype=tf.string)\n",
        "#text_vect = text_vectorizer(inputs)\n",
        "embedded = tf_hub_embedding_layer(inputs)\n",
        "x = layers.Dense(128, activation='relu')(embedded)\n",
        "x = layers.Dense(64, activation='relu')(x)\n",
        "outputs = layers.Dense(num_classes, activation='softmax')(x)\n",
        "\n",
        "model_2 = tf.keras.Model(inputs, outputs)"
      ],
      "metadata": {
        "id": "N5V_wxG1URTz"
      },
      "execution_count": null,
      "outputs": []
    },
    {
      "cell_type": "code",
      "source": [
        "model_2.compile(loss=\"categorical_crossentropy\",\n",
        "                optimizer=tf.keras.optimizers.Adam(),\n",
        "                metrics=\"accuracy\")"
      ],
      "metadata": {
        "id": "6BEG3I0BWxtN"
      },
      "execution_count": null,
      "outputs": []
    },
    {
      "cell_type": "code",
      "source": [
        "model_2.summary()"
      ],
      "metadata": {
        "colab": {
          "base_uri": "https://localhost:8080/"
        },
        "id": "Rog0y7rtYRQH",
        "outputId": "3958d779-2394-4ebc-9b89-f24db5271820"
      },
      "execution_count": null,
      "outputs": [
        {
          "output_type": "stream",
          "name": "stdout",
          "text": [
            "Model: \"model_1\"\n",
            "_________________________________________________________________\n",
            " Layer (type)                Output Shape              Param #   \n",
            "=================================================================\n",
            " input_2 (InputLayer)        [(None,)]                 0         \n",
            "                                                                 \n",
            " universal_sentence_encoder   (None, 512)              256797824 \n",
            " (KerasLayer)                                                    \n",
            "                                                                 \n",
            " dense_1 (Dense)             (None, 128)               65664     \n",
            "                                                                 \n",
            " dense_2 (Dense)             (None, 64)                8256      \n",
            "                                                                 \n",
            " dense_3 (Dense)             (None, 5)                 325       \n",
            "                                                                 \n",
            "=================================================================\n",
            "Total params: 256,872,069\n",
            "Trainable params: 74,245\n",
            "Non-trainable params: 256,797,824\n",
            "_________________________________________________________________\n"
          ]
        }
      ]
    },
    {
      "cell_type": "code",
      "source": [
        "model_2.fit(train,\n",
        "            steps_per_epoch=int(0.1*len(train)),\n",
        "            epochs=5,\n",
        "            validation_data=valid,\n",
        "            validation_steps=int(0.1*len(valid)))"
      ],
      "metadata": {
        "colab": {
          "base_uri": "https://localhost:8080/"
        },
        "id": "G4t5ak3oYa7a",
        "outputId": "35240618-e868-46d4-a3d6-f88fbd046eca"
      },
      "execution_count": null,
      "outputs": [
        {
          "output_type": "stream",
          "name": "stdout",
          "text": [
            "Epoch 1/5\n",
            "562/562 [==============================] - 10s 13ms/step - loss: 0.8927 - accuracy: 0.6494 - val_loss: 0.7858 - val_accuracy: 0.6945\n",
            "Epoch 2/5\n",
            "562/562 [==============================] - 7s 12ms/step - loss: 0.7389 - accuracy: 0.7115 - val_loss: 0.7149 - val_accuracy: 0.7197\n",
            "Epoch 3/5\n",
            "562/562 [==============================] - 7s 12ms/step - loss: 0.7100 - accuracy: 0.7258 - val_loss: 0.6864 - val_accuracy: 0.7350\n",
            "Epoch 4/5\n",
            "562/562 [==============================] - 7s 12ms/step - loss: 0.6789 - accuracy: 0.7411 - val_loss: 0.6634 - val_accuracy: 0.7477\n",
            "Epoch 5/5\n",
            "562/562 [==============================] - 7s 12ms/step - loss: 0.6841 - accuracy: 0.7345 - val_loss: 0.6502 - val_accuracy: 0.7503\n"
          ]
        },
        {
          "output_type": "execute_result",
          "data": {
            "text/plain": [
              "<keras.callbacks.History at 0x7fd06655f590>"
            ]
          },
          "metadata": {},
          "execution_count": 39
        }
      ]
    },
    {
      "cell_type": "markdown",
      "source": [
        "Model 3"
      ],
      "metadata": {
        "id": "G7jSczcwamod"
      }
    },
    {
      "cell_type": "code",
      "source": [
        "def split_chars(text):\n",
        "  return \" \".join(list(text))\n",
        "\n",
        "train_chars = [split_chars(sentence) for sentence in train_sentences]\n",
        "val_chars   = [split_chars(sentence) for sentence in val_sentences]\n",
        "test_chars  = [split_chars(sentence) for sentence in test_sentences]"
      ],
      "metadata": {
        "id": "6hxmFLxFY3Xu"
      },
      "execution_count": null,
      "outputs": []
    },
    {
      "cell_type": "code",
      "source": [
        "char_lens = [len(sentence) for sentence in train_sentences]\n",
        "mean_char_len = np.mean(char_lens)\n",
        "mean_char_len"
      ],
      "metadata": {
        "colab": {
          "base_uri": "https://localhost:8080/"
        },
        "id": "xU2lp90lbRJ5",
        "outputId": "d28ba4e6-962e-4c96-b601-0cb26ea5a04b"
      },
      "execution_count": null,
      "outputs": [
        {
          "output_type": "execute_result",
          "data": {
            "text/plain": [
              "149.3662574983337"
            ]
          },
          "metadata": {},
          "execution_count": 41
        }
      ]
    },
    {
      "cell_type": "code",
      "source": [
        "max_char = np.percentile(char_lens, 95)"
      ],
      "metadata": {
        "id": "D38jQ5OBdUxq"
      },
      "execution_count": null,
      "outputs": []
    },
    {
      "cell_type": "code",
      "source": [
        "text_vectorizer = tf.keras.layers.TextVectorization(max_tokens=72, \n",
        "                                                    output_sequence_length=290,\n",
        "                                                    standardize=\"lower_and_strip_punctuation\",\n",
        "                                                    name=\"char_vectorizer\")"
      ],
      "metadata": {
        "id": "dkf5fM-ndmL0"
      },
      "execution_count": null,
      "outputs": []
    },
    {
      "cell_type": "code",
      "source": [
        "text_vectorizer.adapt(train_sentences)"
      ],
      "metadata": {
        "id": "L5rwsP0dedws"
      },
      "execution_count": null,
      "outputs": []
    },
    {
      "cell_type": "code",
      "source": [
        "cust_embedding = tf.keras.layers.Embedding(input_dim=72,\n",
        "                                           output_dim=25,\n",
        "                                           mask_zero=False,\n",
        "                                           name=\"char_embedding\")\n"
      ],
      "metadata": {
        "id": "BvDbsyOUfMZt"
      },
      "execution_count": null,
      "outputs": []
    },
    {
      "cell_type": "code",
      "source": [
        "inputs = layers.Input(shape=(1,), dtype=tf.string)\n",
        "vect = text_vectorizer(inputs)\n",
        "embeds = cust_embedding(vect)\n",
        "x = layers.Conv1D(128, kernel_size=5, padding='same', activation='relu')(embeds)\n",
        "#x = tf.keras.layers.GlobalAveragePooling1D()(x)\n",
        "x = layers.Conv1D(64, kernel_size=5, padding='same', activation='relu')(x)\n",
        "x = tf.keras.layers.GlobalMaxPool1D()(x)\n",
        "outputs = layers.Dense(num_classes, activation='softmax')(x)\n",
        "\n",
        "model_3 = tf.keras.Model(inputs, outputs)"
      ],
      "metadata": {
        "id": "Y1pczTDaf3nn"
      },
      "execution_count": null,
      "outputs": []
    },
    {
      "cell_type": "code",
      "source": [
        "model_3.compile(loss=\"categorical_crossentropy\",\n",
        "                metrics=\"accuracy\",\n",
        "                optimizer=tf.keras.optimizers.Adam())"
      ],
      "metadata": {
        "id": "Gf-fN28UgvfG"
      },
      "execution_count": null,
      "outputs": []
    },
    {
      "cell_type": "code",
      "source": [
        "model_3.summary()"
      ],
      "metadata": {
        "colab": {
          "base_uri": "https://localhost:8080/"
        },
        "id": "kePUY8GuhHEC",
        "outputId": "83972f88-50a3-4d24-ddbe-a25fe618eace"
      },
      "execution_count": null,
      "outputs": [
        {
          "output_type": "stream",
          "name": "stdout",
          "text": [
            "Model: \"model_2\"\n",
            "_________________________________________________________________\n",
            " Layer (type)                Output Shape              Param #   \n",
            "=================================================================\n",
            " input_3 (InputLayer)        [(None, 1)]               0         \n",
            "                                                                 \n",
            " char_vectorizer (TextVector  (None, 290)              0         \n",
            " ization)                                                        \n",
            "                                                                 \n",
            " char_embedding (Embedding)  (None, 290, 25)           1800      \n",
            "                                                                 \n",
            " conv1d_1 (Conv1D)           (None, 290, 128)          16128     \n",
            "                                                                 \n",
            " conv1d_2 (Conv1D)           (None, 290, 64)           41024     \n",
            "                                                                 \n",
            " global_max_pooling1d (Globa  (None, 64)               0         \n",
            " lMaxPooling1D)                                                  \n",
            "                                                                 \n",
            " dense_4 (Dense)             (None, 5)                 325       \n",
            "                                                                 \n",
            "=================================================================\n",
            "Total params: 59,277\n",
            "Trainable params: 59,277\n",
            "Non-trainable params: 0\n",
            "_________________________________________________________________\n"
          ]
        }
      ]
    },
    {
      "cell_type": "code",
      "source": [
        "train_char_dataset = tf.data.Dataset.from_tensor_slices((train_chars, train_labels_oh_encoded)).batch(32).prefetch(tf.data.AUTOTUNE)\n",
        "val_char_dataset = tf.data.Dataset.from_tensor_slices((val_chars, val_labels_oh_encoded)).batch(32).prefetch(tf.data.AUTOTUNE)\n"
      ],
      "metadata": {
        "id": "mv5m-AVvhKSZ"
      },
      "execution_count": null,
      "outputs": []
    },
    {
      "cell_type": "code",
      "source": [
        "model_3.fit(train_char_dataset,\n",
        "            steps_per_epoch=int(0.2 * len(train_char_dataset)),\n",
        "            epochs=5,\n",
        "            validation_data=val_char_dataset,\n",
        "            validation_steps=int(0.2 * len(val_char_dataset)))"
      ],
      "metadata": {
        "colab": {
          "base_uri": "https://localhost:8080/"
        },
        "id": "W9SyxYkthpmY",
        "outputId": "491cc4e4-a697-4415-9e02-e73f5d77a7a1"
      },
      "execution_count": null,
      "outputs": [
        {
          "output_type": "stream",
          "name": "stdout",
          "text": [
            "Epoch 1/5\n",
            "1125/1125 [==============================] - 8s 6ms/step - loss: 1.3601 - accuracy: 0.4290 - val_loss: 1.2970 - val_accuracy: 0.4678\n",
            "Epoch 2/5\n",
            "1125/1125 [==============================] - 7s 6ms/step - loss: 1.2768 - accuracy: 0.4761 - val_loss: 1.2523 - val_accuracy: 0.4851\n",
            "Epoch 3/5\n",
            "1125/1125 [==============================] - 6s 6ms/step - loss: 1.2414 - accuracy: 0.4863 - val_loss: 1.2175 - val_accuracy: 0.5041\n",
            "Epoch 4/5\n",
            "1125/1125 [==============================] - 6s 6ms/step - loss: 1.2169 - accuracy: 0.4971 - val_loss: 1.2108 - val_accuracy: 0.5086\n",
            "Epoch 5/5\n",
            "1125/1125 [==============================] - 7s 6ms/step - loss: 1.2135 - accuracy: 0.5028 - val_loss: 1.2083 - val_accuracy: 0.5046\n"
          ]
        },
        {
          "output_type": "execute_result",
          "data": {
            "text/plain": [
              "<keras.callbacks.History at 0x7fd08bfbe410>"
            ]
          },
          "metadata": {},
          "execution_count": 50
        }
      ]
    },
    {
      "cell_type": "markdown",
      "source": [
        "Model 4"
      ],
      "metadata": {
        "id": "BZYebwPB0fBi"
      }
    },
    {
      "cell_type": "code",
      "source": [],
      "metadata": {
        "id": "a36HA1x2iBTM"
      },
      "execution_count": null,
      "outputs": []
    }
  ]
}